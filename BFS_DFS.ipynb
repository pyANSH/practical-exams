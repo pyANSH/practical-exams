{
  "nbformat": 4,
  "nbformat_minor": 0,
  "metadata": {
    "colab": {
      "name": "BFS-DFS.ipynb",
      "provenance": [],
      "authorship_tag": "ABX9TyPVUY6bRS3phs89Ls2WEZnK",
      "include_colab_link": true
    },
    "kernelspec": {
      "name": "python3",
      "display_name": "Python 3"
    },
    "language_info": {
      "name": "python"
    }
  },
  "cells": [
    {
      "cell_type": "markdown",
      "metadata": {
        "id": "view-in-github",
        "colab_type": "text"
      },
      "source": [
        "<a href=\"https://colab.research.google.com/github/pyANSH/practical-exams/blob/main/BFS_DFS.ipynb\" target=\"_parent\"><img src=\"https://colab.research.google.com/assets/colab-badge.svg\" alt=\"Open In Colab\"/></a>"
      ]
    },
    {
      "cell_type": "code",
      "source": [
        "from inspect import stack\n",
        "\n",
        "graph = {\n",
        "    '5' : ['3' , '7'],\n",
        "    '3' : ['2', '4'],\n",
        "    '2' : [],\n",
        "    '4' : ['8'],\n",
        "    '7' : ['8'],\n",
        "    '8' : []\n",
        "}\n",
        "stack = []\n",
        "queue = []\n",
        "def depth_first_search(graph, source):\n",
        "    stack = [source]\n",
        "    result = []\n",
        "    while len(stack) > 0:\n",
        "        current = stack.pop()\n",
        "        result.append(current)\n",
        "        for neighbours in graph[current]:\n",
        "            stack.append(neighbours)\n",
        "    return result\n",
        "\n",
        "def breadth_first_search(graph, source):\n",
        "    queue = [source]\n",
        "    result = []\n",
        "    while len(queue) > 0:\n",
        "        current = queue.pop(0)\n",
        "        result.append(current)\n",
        "        for neighbours in graph[current]:\n",
        "            queue.append(neighbours)\n",
        "    return result\n"
      ],
      "metadata": {
        "id": "cjlYgv1h-bfC"
      },
      "execution_count": null,
      "outputs": []
    }
  ]
}