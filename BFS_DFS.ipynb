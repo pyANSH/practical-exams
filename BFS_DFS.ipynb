{
  "nbformat": 4,
  "nbformat_minor": 0,
  "metadata": {
    "colab": {
      "name": "BFS-DFS.ipynb",
      "provenance": [],
      "authorship_tag": "ABX9TyNls73y+aRJGc3N+VjIEEbX",
      "include_colab_link": true
    },
    "kernelspec": {
      "name": "python3",
      "display_name": "Python 3"
    },
    "language_info": {
      "name": "python"
    }
  },
  "cells": [
    {
      "cell_type": "markdown",
      "metadata": {
        "id": "view-in-github",
        "colab_type": "text"
      },
      "source": [
        "<a href=\"https://colab.research.google.com/github/pyANSH/practical-exams/blob/main/BFS_DFS.ipynb\" target=\"_parent\"><img src=\"https://colab.research.google.com/assets/colab-badge.svg\" alt=\"Open In Colab\"/></a>"
      ]
    },
    {
      "cell_type": "code",
      "execution_count": 1,
      "metadata": {
        "id": "Og9eZypPrsB_"
      },
      "outputs": [],
      "source": [
        ""
      ]
    },
    {
      "cell_type": "code",
      "source": [
        "# for bfs\n",
        "graph = {\n",
        "    '5' : ['3' , '7'],\n",
        "    '3' : ['2', '4'],\n",
        "    '2' : [],\n",
        "    '4' : ['8'],\n",
        "    '7' : ['8'],\n",
        "    '8' : []\n",
        "}\n",
        "\n",
        "visitedNode = []\n",
        "queue = []\n",
        "\n",
        "def bfs(visitedNode, queue, node):\n",
        "  print(\"bfs\", end = \" : \")\n",
        "  visitedNode.append(node) # append 5\n",
        "  queue.append(node) # append 5\n",
        "\n",
        "  while queue:\n",
        "    m = queue.pop(0)\n",
        "    print(m, end=' ')\n",
        "\n",
        "    for neighbour in graph[m]:\n",
        "      if neighbour not in visitedNode:\n",
        "        visitedNode.append(neighbour)\n",
        "        queue.append(neighbour)\n",
        "\n",
        "visited = []\n",
        "\n",
        "def dfs(visited, graph, node):\n",
        "  if node not in visited:\n",
        "    print(node)\n",
        "    visited.append(node)\n",
        "    for neighbour in graph[node]:\n",
        "      \n",
        "      dfs(visited,graph,neighbour)\n",
        "\n",
        "# bfs(visitedNode, queue, '5')\n",
        "\n",
        "dfs(visited, graph, '5')\n",
        "\n"
      ],
      "metadata": {
        "colab": {
          "base_uri": "https://localhost:8080/"
        },
        "id": "cjlYgv1h-bfC",
        "outputId": "6ce45384-b819-4cb6-b78a-dce918c00a35"
      },
      "execution_count": 26,
      "outputs": [
        {
          "output_type": "stream",
          "name": "stdout",
          "text": [
            "5\n",
            "3\n",
            "2\n",
            "4\n",
            "8\n",
            "7\n"
          ]
        }
      ]
    },
    {
      "cell_type": "code",
      "source": [
        ""
      ],
      "metadata": {
        "id": "cFFbhtwm_tY-"
      },
      "execution_count": null,
      "outputs": []
    }
  ]
}