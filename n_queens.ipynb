{
  "nbformat": 4,
  "nbformat_minor": 0,
  "metadata": {
    "colab": {
      "name": "n-queens.ipynb",
      "provenance": [],
      "authorship_tag": "ABX9TyNnBsz9pxsR56RuKYikMhyk",
      "include_colab_link": true
    },
    "kernelspec": {
      "name": "python3",
      "display_name": "Python 3"
    },
    "language_info": {
      "name": "python"
    }
  },
  "cells": [
    {
      "cell_type": "markdown",
      "metadata": {
        "id": "view-in-github",
        "colab_type": "text"
      },
      "source": [
        "<a href=\"https://colab.research.google.com/github/pyANSH/practical-exams/blob/main/n_queens.ipynb\" target=\"_parent\"><img src=\"https://colab.research.google.com/assets/colab-badge.svg\" alt=\"Open In Colab\"/></a>"
      ]
    },
    {
      "cell_type": "code",
      "execution_count": 9,
      "metadata": {
        "colab": {
          "base_uri": "https://localhost:8080/"
        },
        "id": "a7mxGzBv791J",
        "outputId": "f330b0fb-42ad-49be-98aa-232785855a69"
      },
      "outputs": [
        {
          "output_type": "stream",
          "name": "stdout",
          "text": [
            "1 0 0 0 0 \n",
            "0 0 0 1 0 \n",
            "0 1 0 0 0 \n",
            "0 0 0 0 1 \n",
            "0 0 1 0 0 \n"
          ]
        }
      ],
      "source": [
        "N = 5\n",
        "def isSafe(board, row, col):\n",
        "  # check row\n",
        "  for i in range(col):\n",
        "    if board[row][i] == 1:\n",
        "      return False\n",
        "  # check upper diagonal\n",
        "  for i,j in zip(range(row, -1, -1),\n",
        "                 range(col,-1,-1)):\n",
        "    if board[i][j] == 1:\n",
        "      return False\n",
        "    \n",
        "  # check lower diagonal\n",
        "  for i,j in zip(range(row, N, 1),\n",
        "                 range(col,-1,-1)):\n",
        "    if board[i][j] == 1:\n",
        "      return False\n",
        "      \n",
        "  return True\n",
        "\n",
        "def solver(board,col):\n",
        "  # means solved\n",
        "  if col >=N:\n",
        "    return True\n",
        "\n",
        "  for i in range(N):\n",
        "    if isSafe(board, i , col):\n",
        "      board[i][col] = 1\n",
        "\n",
        "      if solver(board, col + 1) == True:\n",
        "        return True\n",
        "\n",
        "      board[i][col] = 0\n",
        "  return False\n",
        "    \n",
        "board = [ [0, 0, 0, 0,0],\n",
        "              [0, 0, 0,0, 0],\n",
        "              [0, 0, 0, 0,0],\n",
        "              [0, 0, 0, 0,0],\n",
        "         [0, 0, 0, 0,0] ]\n",
        "\n",
        "solver(board,0)\n",
        "\n",
        "def printSol(board):\n",
        "  for i in range(N):\n",
        "    for j in range(N):\n",
        "      print(board[i][j], end=\" \")\n",
        "    print()\n",
        "\n",
        "printSol(board)"
      ]
    }
  ]
}