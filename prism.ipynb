{
  "nbformat": 4,
  "nbformat_minor": 0,
  "metadata": {
    "colab": {
      "name": "prism.ipynb",
      "provenance": [],
      "authorship_tag": "ABX9TyOwnLQj1+dyfYNjg36DPlmK",
      "include_colab_link": true
    },
    "kernelspec": {
      "name": "python3",
      "display_name": "Python 3"
    },
    "language_info": {
      "name": "python"
    }
  },
  "cells": [
    {
      "cell_type": "markdown",
      "metadata": {
        "id": "view-in-github",
        "colab_type": "text"
      },
      "source": [
        "<a href=\"https://colab.research.google.com/github/pyANSH/practical-exams/blob/main/prism.ipynb\" target=\"_parent\"><img src=\"https://colab.research.google.com/assets/colab-badge.svg\" alt=\"Open In Colab\"/></a>"
      ]
    },
    {
      "cell_type": "code",
      "execution_count": 2,
      "metadata": {
        "colab": {
          "base_uri": "https://localhost:8080/"
        },
        "id": "lLW-KDAorjsC",
        "outputId": "cb6f3a90-8b41-4347-8f15-b1db314e4fae"
      },
      "outputs": [
        {
          "output_type": "stream",
          "name": "stdout",
          "text": [
            "0-2:75\n",
            "2-4:66\n",
            "4-3:31\n",
            "4-1:42\n"
          ]
        }
      ],
      "source": [
        "INF = 9999\n",
        "V = 5\n",
        "g = [[0, 9, 75, 0, 0],\n",
        "     [9, 0, 95, 19, 42],\n",
        "     [75, 95, 0, 51, 66],\n",
        "     [0, 19, 51, 0, 31],\n",
        "     [0, 42, 66, 31, 0]]\n",
        "\n",
        "selected = [0,0,0,0,0]\n",
        "\n",
        "no_edge = 0\n",
        "\n",
        "selected[0] = True\n",
        "\n",
        "while (no_edge< V-1):\n",
        "  min = INF\n",
        "  x = 0\n",
        "  y = 0\n",
        "  for i in range(V):\n",
        "    if selected[i]:\n",
        "      for j in range(V):\n",
        "        if ((not selected[j])and g[i][j]):\n",
        "          if min > g[i][j]:\n",
        "            x = i\n",
        "            y = j\n",
        "\n",
        "  print(str(x) + \"-\" + str(y) + \":\" + str(G[x][y]))\n",
        "  selected[y] = True\n",
        "  no_edge += 1"
      ]
    }
  ]
}