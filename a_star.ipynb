{
  "nbformat": 4,
  "nbformat_minor": 0,
  "metadata": {
    "colab": {
      "name": "a-star.ipynb",
      "provenance": [],
      "authorship_tag": "ABX9TyM/fcQiBKDGXHU6/H2QzsNe",
      "include_colab_link": true
    },
    "kernelspec": {
      "name": "python3",
      "display_name": "Python 3"
    },
    "language_info": {
      "name": "python"
    }
  },
  "cells": [
    {
      "cell_type": "markdown",
      "metadata": {
        "id": "view-in-github",
        "colab_type": "text"
      },
      "source": [
        "<a href=\"https://colab.research.google.com/github/pyANSH/practical-exams/blob/main/a_star.ipynb\" target=\"_parent\"><img src=\"https://colab.research.google.com/assets/colab-badge.svg\" alt=\"Open In Colab\"/></a>"
      ]
    },
    {
      "cell_type": "code",
      "execution_count": 8,
      "metadata": {
        "colab": {
          "base_uri": "https://localhost:8080/"
        },
        "id": "mvjaSNsAdyVG",
        "outputId": "787c2b82-ea10-423d-a501-691917bc0512"
      },
      "outputs": [
        {
          "output_type": "stream",
          "name": "stdout",
          "text": [
            "Path found: ['A', 'B', 'D']\n"
          ]
        },
        {
          "output_type": "execute_result",
          "data": {
            "text/plain": [
              "['A', 'B', 'D']"
            ]
          },
          "metadata": {},
          "execution_count": 8
        }
      ],
      "source": [
        "class Graph:\n",
        "    # example of adjacency list (or rather map)\n",
        "    # adjacency_list = {\n",
        "    # 'A': [('B', 1), ('C', 3), ('D', 7)],\n",
        "    # 'B': [('D', 5)],\n",
        "    # 'C': [('D', 12)]\n",
        "    # }\n",
        "\n",
        "    def __init__(self, adjacency_list):\n",
        "        self.adjacency_list = adjacency_list\n",
        "\n",
        "    def get_neighbors(self, v):\n",
        "        return self.adjacency_list[v]\n",
        "\n",
        "    # heuristic function with equal values for all nodes\n",
        "    def h(self, n):\n",
        "        H = {\n",
        "            'A': 1,\n",
        "            'B': 1,\n",
        "            'C': 1,\n",
        "            'D': 1\n",
        "        }\n",
        "\n",
        "        return H[n]\n",
        "\n",
        "    def a_star_algorithm(self, start_node, stop_node):\n",
        "        # open_list is a list of nodes which have been visited, but who's neighbors\n",
        "        # haven't all been inspected, starts off with the start node\n",
        "        # closed_list is a list of nodes which have been visited\n",
        "        # and who's neighbors have been inspected\n",
        "        open_list = set([start_node])\n",
        "        closed_list = set([])\n",
        "\n",
        "        # g contains current distances from start_node to all other nodes\n",
        "        # the default value (if it's not found in the map) is +infinity\n",
        "        g = {}\n",
        "\n",
        "        g[start_node] = 0\n",
        "\n",
        "        # parents contains an adjacency map of all nodes\n",
        "        parents = {}\n",
        "        parents[start_node] = start_node\n",
        "\n",
        "        while len(open_list) > 0:\n",
        "            n = None\n",
        "\n",
        "            # find a node with the lowest value of f() - evaluation function\n",
        "            for v in open_list:\n",
        "                if n == None or g[v] + self.h(v) < g[n] + self.h(n):\n",
        "                    n = v;\n",
        "\n",
        "            if n == None:\n",
        "                print('Path does not exist!')\n",
        "                return None\n",
        "\n",
        "            # if the current node is the stop_node\n",
        "            # then we begin reconstructin the path from it to the start_node\n",
        "            if n == stop_node:\n",
        "                reconst_path = []\n",
        "\n",
        "                while parents[n] != n:\n",
        "                    reconst_path.append(n)\n",
        "                    n = parents[n]\n",
        "\n",
        "                reconst_path.append(start_node)\n",
        "\n",
        "                reconst_path.reverse()\n",
        "\n",
        "                print('Path found: {}'.format(reconst_path))\n",
        "                return reconst_path\n",
        "\n",
        "            # for all neighbors of the current node do\n",
        "            for (m, weight) in self.get_neighbors(n):\n",
        "                # if the current node isn't in both open_list and closed_list\n",
        "                # add it to open_list and note n as it's parent\n",
        "                if m not in open_list and m not in closed_list:\n",
        "                    open_list.add(m)\n",
        "                    parents[m] = n\n",
        "                    g[m] = g[n] + weight\n",
        "\n",
        "                # otherwise, check if it's quicker to first visit n, then m\n",
        "                # and if it is, update parent data and g data\n",
        "                # and if the node was in the closed_list, move it to open_list\n",
        "                else:\n",
        "                    if g[m] > g[n] + weight:\n",
        "                        g[m] = g[n] + weight\n",
        "                        parents[m] = n\n",
        "\n",
        "                        if m in closed_list:\n",
        "                            closed_list.remove(m)\n",
        "                            open_list.add(m)\n",
        "\n",
        "            # remove n from the open_list, and add it to closed_list\n",
        "            # because all of his neighbors were inspected\n",
        "            open_list.remove(n)\n",
        "            closed_list.add(n)\n",
        "\n",
        "        print('Path does not exist!')\n",
        "        return None\n",
        "\n",
        "\n",
        "adjacency_list = {\n",
        "    'A': [('B', 1), ('C', 3), ('D', 7)],\n",
        "    'B': [('D', 5)],\n",
        "    'C': [('D', 12)]\n",
        "}\n",
        "graph1 = Graph(adjacency_list)\n",
        "graph1.a_star_algorithm('A', 'D')"
      ]
    }
  ]
}